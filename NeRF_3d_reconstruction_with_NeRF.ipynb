{
  "nbformat": 4,
  "nbformat_minor": 0,
  "metadata": {
    "colab": {
      "provenance": [],
      "gpuType": "T4"
    },
    "kernelspec": {
      "name": "python3",
      "display_name": "Python 3"
    },
    "language_info": {
      "name": "python"
    },
    "accelerator": "GPU"
  },
  "cells": [
    {
      "cell_type": "code",
      "source": [
        "from google.colab import drive\n",
        "drive.mount('/content/drive')"
      ],
      "metadata": {
        "colab": {
          "base_uri": "https://localhost:8080/"
        },
        "id": "j6kEZw38Mtc4",
        "outputId": "1dd27ed9-e325-4b76-c1c3-fe52c30ae4ce"
      },
      "execution_count": 27,
      "outputs": [
        {
          "output_type": "stream",
          "name": "stdout",
          "text": [
            "Drive already mounted at /content/drive; to attempt to forcibly remount, call drive.mount(\"/content/drive\", force_remount=True).\n"
          ]
        }
      ]
    },
    {
      "cell_type": "code",
      "execution_count": 28,
      "metadata": {
        "id": "T81tuPPFcR0_"
      },
      "outputs": [],
      "source": [
        "import torch\n",
        "import torch.nn as nn\n",
        "import numpy as np\n",
        "\n",
        "import os\n",
        "import imageio\n",
        "import matplotlib.pyplot as plt\n",
        "from torch.utils.data import DataLoader"
      ]
    },
    {
      "cell_type": "markdown",
      "source": [
        "## Preparing camera and dataset"
      ],
      "metadata": {
        "id": "YhVApoBEdANx"
      }
    },
    {
      "cell_type": "code",
      "source": [
        "def get_rays(datapath, mode='train'):\n",
        "\n",
        "    pose_file_names = [f for f in os.listdir(datapath + f'/{mode}/pose') if f.endswith('.txt')]\n",
        "    intrisics_file_names = [f for f in os.listdir(datapath + f'/{mode}/intrinsics') if f.endswith('.txt')]\n",
        "    img_file_names = [f for f in os.listdir(datapath + '/imgs') if mode in f]\n",
        "\n",
        "    assert len(pose_file_names) == len(intrisics_file_names)\n",
        "    assert len(img_file_names) == len(pose_file_names)\n",
        "\n",
        "    # Read\n",
        "    N = len(pose_file_names)\n",
        "    poses = np.zeros((N, 4, 4))\n",
        "    intrinsics = np.zeros((N, 4, 4))\n",
        "\n",
        "    images = []\n",
        "\n",
        "    for i in range(N):\n",
        "        name = pose_file_names[i]\n",
        "\n",
        "        pose = open(datapath + f'/{mode}/pose/' + name).read().split()\n",
        "        poses[i] = np.array(pose, dtype=float).reshape(4, 4)\n",
        "\n",
        "        intrinsic = open(datapath + f'/{mode}/intrinsics/' + name).read().split()\n",
        "        intrinsics[i] = np.array(intrinsic, dtype=float).reshape(4, 4)\n",
        "\n",
        "        # Read images\n",
        "        img = imageio.imread(datapath + '/imgs/' + name.replace('txt', 'png')) / 255.\n",
        "        images.append(img[None, ...])\n",
        "    images = np.concatenate(images)\n",
        "\n",
        "    H = images.shape[1]\n",
        "    W = images.shape[2]\n",
        "\n",
        "    if images.shape[3] == 4: #RGBA -> RGB\n",
        "        images = images[..., :3] * images[..., -1:] + (1 - images[..., -1:])\n",
        "\n",
        "    rays_o = np.zeros((N, H*W, 3))\n",
        "    rays_d = np.zeros((N, H*W, 3))\n",
        "    target_px_values = images.reshape((N, H*W, 3))\n",
        "\n",
        "    for i in range(N):\n",
        "\n",
        "        c2w = poses[i]\n",
        "        f = intrinsics[i, 0, 0]\n",
        "\n",
        "        u = np.arange(W)\n",
        "        v = np.arange(H)\n",
        "        u, v = np.meshgrid(u, v)\n",
        "        dirs = np.stack((u - W / 2, -(v - H / 2), - np.ones_like(u) * f), axis=-1)\n",
        "        dirs = (c2w[:3, :3] @ dirs[..., None]).squeeze(-1)\n",
        "        dirs = dirs / np.linalg.norm(dirs, axis=-1, keepdims=True)\n",
        "\n",
        "        rays_d[i] = dirs.reshape(-1, 3)\n",
        "        rays_o[i] += c2w[:3, 3]\n",
        "\n",
        "    return rays_o, rays_d, target_px_values\n"
      ],
      "metadata": {
        "id": "evorj75UctS7"
      },
      "execution_count": 29,
      "outputs": []
    },
    {
      "cell_type": "markdown",
      "source": [
        "## Volumetric Rendering"
      ],
      "metadata": {
        "id": "TKhM8OCed-Ps"
      }
    },
    {
      "cell_type": "code",
      "source": [
        "def compute_accumulated_transmittance(betas):\n",
        "    \"\"\"\n",
        "    Computes the accumulated transmittance given a tensor of betas\n",
        "\n",
        "    Args:\n",
        "        betas (torch.Tensor): A tensor of shape (batch_size, num_layers) containing the betas for each layer\n",
        "\n",
        "    Returns:\n",
        "        torch.Tensor: A tensor of shape (batch_size, num_layers) containing the accumulated transmittance for each layer\n",
        "    \"\"\"\n",
        "    accumulated_transmittance = torch.cumprod(betas, 1)\n",
        "    return torch.cat(\n",
        "        (\n",
        "            torch.ones(accumulated_transmittance.shape[0], 1, device=accumulated_transmittance.device),\n",
        "            accumulated_transmittance[:, :-1]\n",
        "        ),\n",
        "        dim=1\n",
        "    )\n",
        "\n",
        "def rendering(model, rays_o, rays_d, tn, tf, nb_bins=100, device='cpu', white_bckgr=True):\n",
        "    \"\"\"\n",
        "    Renders an image of a 3D scene using volumetric rendering.\n",
        "\n",
        "    Args:\n",
        "    - model: a model that predicts the color and density at each point in space\n",
        "    - rays_o: the origin of the rays, shape [nb_rays, 3]\n",
        "    - rays_d: the direction of the rays, shape [nb_rays, 3]\n",
        "    - tn: the near clipping distance, a float\n",
        "    - tf: the far clipping distance, a float\n",
        "    - nb_bins: the number of bins to discretize the rays with, an integer\n",
        "    - device: the device to run the computation on, a string\n",
        "    - white_bckgr: whether to assume a white background, a boolean\n",
        "\n",
        "    Returns:\n",
        "    - c: the rendered image, shape [nb_rays, 3]\n",
        "    \"\"\"\n",
        "\n",
        "    # Discretize the rays\n",
        "    t = torch.linspace(tn, tf, nb_bins).to(device)  # [nb_bins]\n",
        "    delta = torch.cat((t[1:] - t[:-1], torch.tensor([1e10], device=device)))\n",
        "    x = rays_o.unsqueeze(1) + t.unsqueeze(0).unsqueeze(-1) * rays_d.unsqueeze(1)  # [nb_rays, nb_bins, 3]\n",
        "\n",
        "    # Query the model for the colors and density along the rays\n",
        "    colors, density = model.intersect(x.reshape(-1, 3), rays_d.expand(x.shape[1], x.shape[0], 3).transpose(0, 1).reshape(-1, 3))\n",
        "    colors = colors.reshape((x.shape[0], nb_bins, 3))  # [nb_rays, nb_bins, 3]\n",
        "    density = density.reshape((x.shape[0], nb_bins))\n",
        "\n",
        "    # Compute the accumulated transmittance and the weights\n",
        "    alpha = 1 - torch.exp(- density * delta.unsqueeze(0))  # [nb_rays, nb_bins, 1]\n",
        "    weights = compute_accumulated_transmittance(1 - alpha) * alpha  # [nb_rays, nb_bins]\n",
        "\n",
        "    # Compute the final color\n",
        "    if white_bckgr:\n",
        "        c = (weights.unsqueeze(-1) * colors).sum(1)  # [nb_rays, 3]\n",
        "        weight_sum = weights.sum(-1)  # [nb_rays]\n",
        "        return c + 1 - weight_sum.unsqueeze(-1)\n",
        "    else:\n",
        "        c = (weights.unsqueeze(-1) * colors).sum(1)  # [nb_rays, 3]\n",
        "        return c\n"
      ],
      "metadata": {
        "id": "w_O5l2cEcz-A"
      },
      "execution_count": 41,
      "outputs": []
    },
    {
      "cell_type": "markdown",
      "source": [
        "## NeRF model"
      ],
      "metadata": {
        "id": "mBZRxiwIeBCB"
      }
    },
    {
      "cell_type": "code",
      "source": [
        "class Nerf(nn.Module):\n",
        "\n",
        "    def __init__(self, Lpos=10, Ldir=4, hidden_dim=256):\n",
        "        super(Nerf, self).__init__()\n",
        "\n",
        "        # Block 1: A set of fully connected layers with ReLU activations to process the input 3D coordinates.\n",
        "        self.block1 = nn.Sequential(nn.Linear(Lpos * 6 + 3, hidden_dim), nn.ReLU(),\n",
        "                                    nn.Linear(hidden_dim, hidden_dim), nn.ReLU(),\n",
        "                                    nn.Linear(hidden_dim, hidden_dim), nn.ReLU(),\n",
        "                                    nn.Linear(hidden_dim, hidden_dim), nn.ReLU(),\n",
        "                                    nn.Linear(hidden_dim, hidden_dim), nn.ReLU())\n",
        "\n",
        "        # Block 2: Another set of fully connected layers to further process the output of block 1, concatenated with the input.\n",
        "        self.block2 = nn.Sequential(nn.Linear(hidden_dim + Lpos * 6 + 3, hidden_dim), nn.ReLU(),\n",
        "                                    nn.Linear(hidden_dim, hidden_dim), nn.ReLU(),\n",
        "                                    nn.Linear(hidden_dim, hidden_dim), nn.ReLU(),\n",
        "                                    nn.Linear(hidden_dim, hidden_dim + 1),)\n",
        "\n",
        "        # RGB Head: A set of layers to convert the processed 3D coordinates into RGB values.\n",
        "        self.rgb_head = nn.Sequential(nn.Linear(hidden_dim + Ldir * 6 + 3, hidden_dim // 2), nn.ReLU(),\n",
        "                                      nn.Linear(hidden_dim // 2, 3), nn.Sigmoid())\n",
        "\n",
        "        # Length of positional encoding for 3D coordinates and viewing direction.\n",
        "        self.Lpos = Lpos\n",
        "        self.Ldir = Ldir\n",
        "\n",
        "    def positional_encoding(self, x, L):\n",
        "        # This method applies positional encoding to the input.\n",
        "        # It uses both sine and cosine functions with different frequencies to encode spatial relationships.\n",
        "        # ORIGINAL PAPER MULTIPLIES BY PIE\n",
        "        out = [x]\n",
        "        for j in range(L):\n",
        "            out.append(torch.sin(2 ** j * x))\n",
        "            out.append(torch.cos(2 ** j * x))\n",
        "        return torch.cat(out, dim=1)\n",
        "\n",
        "    def forward(self, xyz, d):\n",
        "        # Forward pass: Processes 3D coordinates (xyz) and viewing direction (d) to produce RGB values and volume density.\n",
        "\n",
        "        # Applying positional encoding to 3D coordinates and viewing direction.\n",
        "        x_emb = self.positional_encoding(xyz, self.Lpos) # [batch_size, Lpos * 6 + 3]\n",
        "        d_emb = self.positional_encoding(d, self.Ldir) # [batch_size, Ldir * 6 + 3]\n",
        "\n",
        "        # Passing through the first block of layers.\n",
        "        h = self.block1(x_emb) # [batch_size, hidden_dim]\n",
        "\n",
        "        # Concatenating the result with the original positional encoding and passing through the second block.\n",
        "        h = self.block2(torch.cat((h, x_emb), dim=1)) # [batch_size, hidden_dim + 1]\n",
        "\n",
        "        # Extracting the volume density (sigma) and truncating the hidden representation (h).\n",
        "        sigma = h[:, -1]\n",
        "        h = h[:, :-1] # [batch_size, hidden_dim]\n",
        "\n",
        "        # Getting the RGB values by passing the truncated hidden representation and viewing direction encoding through the RGB head.\n",
        "        c = self.rgb_head(torch.cat((h, d_emb), dim=1))\n",
        "\n",
        "        return c, torch.relu(sigma) # Returning RGB values and volume density.\n",
        "\n",
        "    def intersect(self, x, d):\n",
        "        # Convenience method for calling the forward method.\n",
        "        return self.forward(x, d)\n"
      ],
      "metadata": {
        "id": "UE6kYcJBeDXM"
      },
      "execution_count": 31,
      "outputs": []
    },
    {
      "cell_type": "code",
      "source": [
        "from tqdm import tqdm\n",
        "\n",
        "def training(model, optimizer, scheduler, tn, tf, nb_bins, nb_epochs, data_loader, device='cpu'):\n",
        "\n",
        "    training_loss = []\n",
        "    for epoch in (range(nb_epochs)):\n",
        "        for batch in tqdm(data_loader):\n",
        "            o = batch[:, :3].to(device)\n",
        "            d = batch[:, 3:6].to(device)\n",
        "\n",
        "            target = batch[:, 6:].to(device)\n",
        "\n",
        "            prediction = rendering(model, o, d, tn, tf, nb_bins=nb_bins, device=device)\n",
        "\n",
        "            loss = ((prediction - target)**2).mean()\n",
        "\n",
        "            optimizer.zero_grad()\n",
        "            loss.backward()\n",
        "            optimizer.step()\n",
        "            training_loss.append(loss.item())\n",
        "\n",
        "        scheduler.step()\n",
        "\n",
        "        torch.save(model.cpu(), 'model_nerf')\n",
        "        model.to(device)\n",
        "\n",
        "    return training_loss"
      ],
      "metadata": {
        "id": "jsHinm1Rc6FN"
      },
      "execution_count": 32,
      "outputs": []
    },
    {
      "cell_type": "markdown",
      "source": [
        "## Camera/Dataset"
      ],
      "metadata": {
        "id": "9bo6fGuGPX3I"
      }
    },
    {
      "cell_type": "code",
      "source": [
        "batch_size = 1024\n",
        "\n",
        "o, d, target_px_values = get_rays('/content/drive/MyDrive/dev/NeRF/fox', mode='train')\n",
        "dataloader = DataLoader(torch.cat((torch.from_numpy(o).reshape(-1, 3).type(torch.float),\n",
        "                                   torch.from_numpy(d).reshape(-1, 3).type(torch.float),\n",
        "                                   torch.from_numpy(target_px_values).reshape(-1, 3).type(torch.float),), dim=1),\n",
        "                       batch_size=batch_size, shuffle=True)\n",
        "\n",
        "\n",
        "dataloader_warmup = DataLoader(torch.cat((torch.from_numpy(o).reshape(90, 400, 400, 3)[:, 100:300, 100:300, :].reshape(-1, 3).type(torch.float),\n",
        "                               torch.from_numpy(d).reshape(90, 400, 400, 3)[:, 100:300, 100:300, :].reshape(-1, 3).type(torch.float),\n",
        "                               torch.from_numpy(target_px_values).reshape(90, 400, 400, 3)[:, 100:300, 100:300, :].reshape(-1, 3)), dim=1).type(torch.float),\n",
        "                       batch_size=batch_size, shuffle=True)\n",
        "\n",
        "\n",
        "test_o, test_d, test_target_px_values = get_rays('/content/drive/MyDrive/dev/NeRF/fox', mode='test')"
      ],
      "metadata": {
        "colab": {
          "base_uri": "https://localhost:8080/"
        },
        "id": "cLiMV3UqchC2",
        "outputId": "44d1ea8c-97d9-4983-98d8-3a76e2d51ce8"
      },
      "execution_count": 47,
      "outputs": [
        {
          "output_type": "stream",
          "name": "stderr",
          "text": [
            "<ipython-input-29-c69b9c1e21df>:27: DeprecationWarning: Starting with ImageIO v3 the behavior of this function will switch to that of iio.v3.imread. To keep the current behavior (and make this warning disappear) use `import imageio.v2 as imageio` or call `imageio.v2.imread` directly.\n",
            "  img = imageio.imread(datapath + '/imgs/' + name.replace('txt', 'png')) / 255.\n"
          ]
        }
      ]
    },
    {
      "cell_type": "code",
      "source": [
        "torch.from_numpy(o).dtype"
      ],
      "metadata": {
        "colab": {
          "base_uri": "https://localhost:8080/"
        },
        "id": "Ok3G_3hLPuCn",
        "outputId": "e76765e5-4d12-450c-e304-87d561d9ff9e"
      },
      "execution_count": 39,
      "outputs": [
        {
          "output_type": "execute_result",
          "data": {
            "text/plain": [
              "torch.float64"
            ]
          },
          "metadata": {},
          "execution_count": 39
        }
      ]
    },
    {
      "cell_type": "markdown",
      "source": [
        "## Training"
      ],
      "metadata": {
        "id": "WDYIw3nRHc5V"
      }
    },
    {
      "cell_type": "code",
      "source": [
        "device = torch.device(\"cpu\")\n",
        "\n",
        "if torch.cuda.is_available():\n",
        "   print(\"Training on GPU\")\n",
        "   device = torch.device(\"cuda:0\")"
      ],
      "metadata": {
        "colab": {
          "base_uri": "https://localhost:8080/"
        },
        "id": "6z1oJEixntAY",
        "outputId": "aa762ec3-6fc8-485c-d89e-16f904ce370d"
      },
      "execution_count": 34,
      "outputs": [
        {
          "output_type": "stream",
          "name": "stdout",
          "text": [
            "Training on GPU\n"
          ]
        }
      ]
    },
    {
      "cell_type": "code",
      "source": [
        "tn = 8\n",
        "tf = 12\n",
        "nb_epochs = 1\n",
        "lr = 1e-3\n",
        "gamma = .5\n",
        "nb_bins = 100\n",
        "\n",
        "model = Nerf().to(device)\n",
        "optimizer = torch.optim.Adam(model.parameters(), lr=lr)\n",
        "scheduler = torch.optim.lr_scheduler.MultiStepLR(optimizer, milestones=[5, 10], gamma=gamma)\n",
        "\n",
        "\n",
        "training_loss = training(model, optimizer, scheduler, tn, tf, nb_bins, 1, dataloader_warmup, device=device)\n",
        "plt.plot(training_loss)\n",
        "plt.show()\n",
        "training_loss = training(model, optimizer, scheduler, tn, tf, nb_bins, nb_epochs, dataloader, device=device)\n",
        "plt.plot(training_loss)\n",
        "plt.show()"
      ],
      "metadata": {
        "id": "TNp6QNFbclwY",
        "colab": {
          "base_uri": "https://localhost:8080/",
          "height": 465
        },
        "outputId": "ebb0ad58-651d-4792-e848-3165e97bf4fa"
      },
      "execution_count": null,
      "outputs": [
        {
          "metadata": {
            "tags": null
          },
          "name": "stderr",
          "output_type": "stream",
          "text": [
            "100%|██████████| 3516/3516 [07:38<00:00,  7.67it/s]\n"
          ]
        },
        {
          "data": {
            "image/png": "[encoded data removed]",
            "text/plain": [
              "<Figure size 640x480 with 1 Axes>"
            ]
          },
          "metadata": {},
          "output_type": "display_data"
        },
        {
          "output_type": "stream",
          "name": "stderr",
          "text": [
            " 81%|████████  | 11405/14063 [24:30<05:40,  7.81it/s]"
          ]
        }
      ]
    },
    {
      "cell_type": "markdown",
      "source": [
        "##Novel View Synthesis"
      ],
      "metadata": {
        "id": "tzJB_WGYVa71"
      }
    },
    {
      "cell_type": "code",
      "source": [
        "test_o, test_d, test_target_px_values = get_rays('/content/drive/MyDrive/dev/NeRF/fox', mode='test')"
      ],
      "metadata": {
        "colab": {
          "base_uri": "https://localhost:8080/"
        },
        "id": "YIUpUf_MS7w6",
        "outputId": "6afbc973-1ba3-41b0-a302-79d0d60eef89"
      },
      "execution_count": 50,
      "outputs": [
        {
          "output_type": "stream",
          "name": "stderr",
          "text": [
            "<ipython-input-29-c69b9c1e21df>:27: DeprecationWarning: Starting with ImageIO v3 the behavior of this function will switch to that of iio.v3.imread. To keep the current behavior (and make this warning disappear) use `import imageio.v2 as imageio` or call `imageio.v2.imread` directly.\n",
            "  img = imageio.imread(datapath + '/imgs/' + name.replace('txt', 'png')) / 255.\n"
          ]
        }
      ]
    },
    {
      "cell_type": "code",
      "source": [
        "device = 'cuda'\n",
        "tn = 8.\n",
        "tf = 12."
      ],
      "metadata": {
        "id": "UO_liUe-S8YP"
      },
      "execution_count": 51,
      "outputs": []
    },
    {
      "cell_type": "code",
      "source": [
        "model = torch.load('model_nerf').to(device)"
      ],
      "metadata": {
        "id": "4vwZG4PZS_6R"
      },
      "execution_count": 52,
      "outputs": []
    },
    {
      "cell_type": "code",
      "source": [
        "def mse2psnr(mse):\n",
        "    return 20 * np.log10(1 / np.sqrt(mse))\n",
        "\n",
        "\n",
        "@torch.no_grad()\n",
        "def test(model, o, d, tn, tf, nb_bins=100, chunk_size=10, H=400, W=400, target=None):\n",
        "\n",
        "    o = o.chunk(chunk_size)\n",
        "    d = d.chunk(chunk_size)\n",
        "\n",
        "    image = []\n",
        "    for o_batch, d_batch in zip(o, d):\n",
        "        img_batch = rendering(model, o_batch, d_batch, tn, tf, nb_bins=nb_bins, device=o_batch.device)\n",
        "        image.append(img_batch) # N, 3\n",
        "    image = torch.cat(image)\n",
        "    image = image.reshape(H, W, 3).cpu().numpy()\n",
        "\n",
        "    if target is not None:\n",
        "        mse = ((image - target)**2).mean()\n",
        "        psnr = mse2psnr(mse)\n",
        "\n",
        "    if target is not None:\n",
        "        return image, mse, psnr\n",
        "    else:\n",
        "        return image"
      ],
      "metadata": {
        "id": "cckNnm2STATx"
      },
      "execution_count": 53,
      "outputs": []
    },
    {
      "cell_type": "code",
      "source": [
        "img, mse, psnr = test(model, torch.from_numpy(test_o[0]).to(device).float(), torch.from_numpy(test_d[0]).to(device).float(),\n",
        "                tn, tf, nb_bins=100, chunk_size=10, target=test_target_px_values[0].reshape(400, 400, 3))\n",
        "\n",
        "print(psnr)"
      ],
      "metadata": {
        "colab": {
          "base_uri": "https://localhost:8080/"
        },
        "id": "SAMNSInGTCF3",
        "outputId": "73819ce6-c5e6-4bcd-e978-fb0bc389352a"
      },
      "execution_count": 54,
      "outputs": [
        {
          "output_type": "stream",
          "name": "stdout",
          "text": [
            "29.846612226373715\n"
          ]
        }
      ]
    },
    {
      "cell_type": "code",
      "source": [
        "plt.imshow(img)"
      ],
      "metadata": {
        "colab": {
          "base_uri": "https://localhost:8080/",
          "height": 452
        },
        "id": "tG9zPiIMTEum",
        "outputId": "eea2b5f8-e0ce-4227-e1f0-732b41fc638f"
      },
      "execution_count": 55,
      "outputs": [
        {
          "output_type": "execute_result",
          "data": {
            "text/plain": [
              "<matplotlib.image.AxesImage at 0x7ff7bc56a0b0>"
            ]
          },
          "metadata": {},
          "execution_count": 55
        },
        {
          "output_type": "display_data",
          "data": {
            "text/plain": [
              "<Figure size 640x480 with 1 Axes>"
            ],
            "image/png": "[encoded data removed]"
          },
          "metadata": {}
        }
      ]
    }
  ]
}